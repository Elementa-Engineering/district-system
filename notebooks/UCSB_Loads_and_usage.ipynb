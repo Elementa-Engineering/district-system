{
 "cells": [
  {
   "cell_type": "markdown",
   "metadata": {},
   "source": [
    "# Hi Jon/Sonam, lets start here!\n"
   ]
  },
  {
   "cell_type": "markdown",
   "metadata": {},
   "source": [
    "#### Only if you were redirected here from the New CUP, you must be in the year of decarb with New CUP results and now you can rerun this file for final results\n"
   ]
  },
  {
   "cell_type": "markdown",
   "metadata": {},
   "source": [
    "## First, pick a year - no decarb (2025) or decarb (2045)? Type it in OP_building_loads.py and then hit \"Run All\" above in this file\n"
   ]
  },
  {
   "cell_type": "code",
   "execution_count": 1,
   "metadata": {},
   "outputs": [],
   "source": [
    "import os\n",
    "import pandas as pd\n",
    "import shutil\n",
    "import re\n",
    "import pprint\n",
    "import math\n",
    "import numpy as np"
   ]
  },
  {
   "cell_type": "code",
   "execution_count": 2,
   "metadata": {},
   "outputs": [
    {
     "name": "stderr",
     "output_type": "stream",
     "text": [
      "/workspaces/district-system/districtsystem/OP_building_loads.py:1534: SettingWithCopyWarning: \n",
      "A value is trying to be set on a copy of a slice from a DataFrame.\n",
      "Try using .loc[row_indexer,col_indexer] = value instead\n",
      "\n",
      "See the caveats in the documentation: https://pandas.pydata.org/pandas-docs/stable/user_guide/indexing.html#returning-a-view-versus-a-copy\n",
      "  df2_E_CAAN[col] = 0\n",
      "/workspaces/district-system/districtsystem/OP_building_loads.py:1534: SettingWithCopyWarning: \n",
      "A value is trying to be set on a copy of a slice from a DataFrame.\n",
      "Try using .loc[row_indexer,col_indexer] = value instead\n",
      "\n",
      "See the caveats in the documentation: https://pandas.pydata.org/pandas-docs/stable/user_guide/indexing.html#returning-a-view-versus-a-copy\n",
      "  df2_E_CAAN[col] = 0\n",
      "/workspaces/district-system/districtsystem/OP_building_loads.py:1534: SettingWithCopyWarning: \n",
      "A value is trying to be set on a copy of a slice from a DataFrame.\n",
      "Try using .loc[row_indexer,col_indexer] = value instead\n",
      "\n",
      "See the caveats in the documentation: https://pandas.pydata.org/pandas-docs/stable/user_guide/indexing.html#returning-a-view-versus-a-copy\n",
      "  df2_E_CAAN[col] = 0\n",
      "/workspaces/district-system/districtsystem/OP_building_loads.py:1534: SettingWithCopyWarning: \n",
      "A value is trying to be set on a copy of a slice from a DataFrame.\n",
      "Try using .loc[row_indexer,col_indexer] = value instead\n",
      "\n",
      "See the caveats in the documentation: https://pandas.pydata.org/pandas-docs/stable/user_guide/indexing.html#returning-a-view-versus-a-copy\n",
      "  df2_E_CAAN[col] = 0\n",
      "/workspaces/district-system/districtsystem/OP_building_loads.py:1540: SettingWithCopyWarning: \n",
      "A value is trying to be set on a copy of a slice from a DataFrame.\n",
      "Try using .loc[row_indexer,col_indexer] = value instead\n",
      "\n",
      "See the caveats in the documentation: https://pandas.pydata.org/pandas-docs/stable/user_guide/indexing.html#returning-a-view-versus-a-copy\n",
      "  df2_E_CAAN[col] = np.where(\n"
     ]
    },
    {
     "ename": "",
     "evalue": "",
     "output_type": "error",
     "traceback": [
      "\u001b[1;31mThe Kernel crashed while executing code in the current cell or a previous cell. \n",
      "\u001b[1;31mPlease review the code in the cell(s) to identify a possible cause of the failure. \n",
      "\u001b[1;31mClick <a href='https://aka.ms/vscodeJupyterKernelCrash'>here</a> for more info. \n",
      "\u001b[1;31mView Jupyter <a href='command:jupyter.viewOutput'>log</a> for further details."
     ]
    }
   ],
   "source": [
    "# loading results from OP_building_loads file\n",
    "from districtsystem.OP_building_loads import (\n",
    "    allBldgLoads_output,\n",
    "    allBldgElecUse_output,\n",
    "    allBldgGasUse_output,\n",
    "    current_district_therm_loads,\n",
    "    COP_wetbulb_reg_output,\n",
    "    current_District_Elec_Use,\n",
    "    current_District_Gas_Use,\n",
    "    current_Bldg_Therm_Op_Loads,\n",
    "    Current_Bldg_Equip_Gas_Use,\n",
    "    Current_Bldg_Equip_Elec_Use,\n",
    "    new_Bldg_Therm_Op_Loads,\n",
    "    COP_newBldgEquip_reg_output,\n",
    "    new_bldg_equip_elec_Use,\n",
    "    newCUp_reg_df,\n",
    "    bldg_total_elec_use,\n",
    "    bldg_total_gas_use,\n",
    "    rates_df,\n",
    "    bldg_total_elec_grouped_df,\n",
    "    new_CUP_Therm_Loads,\n",
    "    key_outputs_OG,\n",
    "    new_CUP_equip_elec_Use,\n",
    "    elec_billing_df,\n",
    ")"
   ]
  },
  {
   "cell_type": "code",
   "execution_count": null,
   "metadata": {},
   "outputs": [],
   "source": [
    "# simulation thermal Use\n",
    "allBldgLoads_output.iloc[:, :]"
   ]
  },
  {
   "cell_type": "code",
   "execution_count": null,
   "metadata": {},
   "outputs": [],
   "source": [
    "# total number of buildngs being processed\n",
    "print(allBldgLoads_output.shape[0] / 8760)"
   ]
  },
  {
   "cell_type": "code",
   "execution_count": null,
   "metadata": {},
   "outputs": [],
   "source": [
    "print(allBldgLoads_output.shape)"
   ]
  },
  {
   "cell_type": "code",
   "execution_count": null,
   "metadata": {},
   "outputs": [],
   "source": [
    "# simulation elec use\n",
    "allBldgElecUse_output.head()"
   ]
  },
  {
   "cell_type": "code",
   "execution_count": null,
   "metadata": {},
   "outputs": [],
   "source": [
    "# simulation gas use\n",
    "allBldgGasUse_output.head()"
   ]
  },
  {
   "cell_type": "code",
   "execution_count": null,
   "metadata": {},
   "outputs": [],
   "source": [
    "# current district therm Op Loads\n",
    "current_district_therm_loads.head()"
   ]
  },
  {
   "cell_type": "code",
   "execution_count": null,
   "metadata": {},
   "outputs": [],
   "source": [
    "# Reg. Data - Current District\n",
    "COP_wetbulb_reg_output.head()"
   ]
  },
  {
   "cell_type": "code",
   "execution_count": null,
   "metadata": {},
   "outputs": [],
   "source": [
    "current_District_Elec_Use.head()"
   ]
  },
  {
   "cell_type": "code",
   "execution_count": null,
   "metadata": {},
   "outputs": [],
   "source": [
    "current_District_Gas_Use.head()"
   ]
  },
  {
   "cell_type": "code",
   "execution_count": null,
   "metadata": {},
   "outputs": [],
   "source": [
    "current_Bldg_Therm_Op_Loads.head()"
   ]
  },
  {
   "cell_type": "code",
   "execution_count": null,
   "metadata": {},
   "outputs": [],
   "source": [
    "Current_Bldg_Equip_Elec_Use.head()"
   ]
  },
  {
   "cell_type": "code",
   "execution_count": null,
   "metadata": {},
   "outputs": [],
   "source": [
    "Current_Bldg_Equip_Gas_Use.head()"
   ]
  },
  {
   "cell_type": "code",
   "execution_count": null,
   "metadata": {},
   "outputs": [],
   "source": [
    "new_Bldg_Therm_Op_Loads.head()"
   ]
  },
  {
   "cell_type": "code",
   "execution_count": null,
   "metadata": {},
   "outputs": [],
   "source": [
    "# from districtsystem.OP_building_loads import current_district_therm_loads, COP_wetbulb_reg_output,current_District_Elec_Use,current_District_Gas_Use,current_Bldg_Therm_Op_Loads,Current_Bldg_Equip_Gas_Use,Current_Bldg_Equip_Elec_Use,\\\n",
    "# new_Bldg_Therm_Op_Loads,COP_newBldgEquip_reg_output,new_bldg_equip_elec_Use,new_CUP_Therm_Loads,new_CUP_equip_elec_Use,elec_billing_df\n",
    "\n",
    "new_Bldg_Therm_Op_Loads.shape"
   ]
  },
  {
   "cell_type": "code",
   "execution_count": null,
   "metadata": {},
   "outputs": [],
   "source": [
    "COP_newBldgEquip_reg_output.head()"
   ]
  },
  {
   "cell_type": "code",
   "execution_count": null,
   "metadata": {},
   "outputs": [],
   "source": [
    "new_bldg_equip_elec_Use.head()"
   ]
  },
  {
   "cell_type": "code",
   "execution_count": null,
   "metadata": {},
   "outputs": [],
   "source": [
    "new_bldg_equip_elec_Use.shape"
   ]
  },
  {
   "cell_type": "code",
   "execution_count": null,
   "metadata": {},
   "outputs": [],
   "source": [
    "new_CUP_Therm_Loads.head()"
   ]
  },
  {
   "cell_type": "code",
   "execution_count": null,
   "metadata": {},
   "outputs": [],
   "source": [
    "new_CUP_Therm_Loads.shape"
   ]
  },
  {
   "cell_type": "code",
   "execution_count": null,
   "metadata": {},
   "outputs": [],
   "source": [
    "# Now 'df' contains the DataFrame loaded from the pickle file\n",
    "key_outputs_OG.iloc[:, 45:65]  # Verify the DataFrame"
   ]
  },
  {
   "cell_type": "code",
   "execution_count": null,
   "metadata": {},
   "outputs": [],
   "source": [
    "# regression\n",
    "newCUp_reg_df.head(10)"
   ]
  },
  {
   "cell_type": "code",
   "execution_count": null,
   "metadata": {},
   "outputs": [],
   "source": [
    "new_CUP_equip_elec_Use.head(5)"
   ]
  },
  {
   "cell_type": "code",
   "execution_count": null,
   "metadata": {},
   "outputs": [],
   "source": [
    "bldg_total_elec_use.iloc[20000:20100, :]"
   ]
  },
  {
   "cell_type": "code",
   "execution_count": null,
   "metadata": {},
   "outputs": [],
   "source": [
    "bldg_total_elec_use.shape"
   ]
  },
  {
   "cell_type": "code",
   "execution_count": null,
   "metadata": {},
   "outputs": [],
   "source": [
    "bldg_total_gas_use.iloc[40000:40100, :]"
   ]
  },
  {
   "cell_type": "code",
   "execution_count": null,
   "metadata": {},
   "outputs": [],
   "source": [
    "elec_billing_df.head()"
   ]
  },
  {
   "cell_type": "code",
   "execution_count": null,
   "metadata": {},
   "outputs": [],
   "source": [
    "bldg_total_elec_grouped_df.iloc[18000:18100, :]"
   ]
  },
  {
   "cell_type": "code",
   "execution_count": null,
   "metadata": {},
   "outputs": [],
   "source": [
    "bldg_total_elec_grouped_df[\"Electric Utility Billing Group\"].unique()"
   ]
  },
  {
   "cell_type": "code",
   "execution_count": null,
   "metadata": {},
   "outputs": [],
   "source": [
    "rates_df.head()"
   ]
  },
  {
   "cell_type": "code",
   "execution_count": null,
   "metadata": {},
   "outputs": [],
   "source": [
    "# Input Process and COP data from Merged baseline- Analytics tab\n",
    "buildingLoadData_df = pd.read_excel(\n",
    "    \"inputs/UCSB merged baselines_COP_process load.xlsx\", sheet_name=\"Analytics - V1 5-14\"\n",
    ")"
   ]
  },
  {
   "cell_type": "code",
   "execution_count": null,
   "metadata": {},
   "outputs": [],
   "source": [
    "# # File path for the output Excel file\n",
    "# excel_file_path = 'Calculation_map_output.xlsx'\n",
    "\n",
    "\n",
    "# #Write to excel\n",
    "# # Create an ExcelWriter object\n",
    "# with pd.ExcelWriter(excel_file_path, engine='openpyxl') as writer:\n",
    "#     # Set the active sheet (first sheet) after creating the writer object\n",
    "#     writer.book.active = 0\n",
    "\n",
    "\n",
    "# Export each DataFrame to a different tab in the Excel file\n",
    "# allBldgLoads_output.to_excel(writer, sheet_name='Simulations Thermal Use', index=False)\n",
    "# allBldgElecUse_output.to_excel(writer, sheet_name='Simulations Electricity Use', index=False)\n",
    "# allBldgGasUse_output.to_excel(writer, sheet_name='Simulations Gas Use', index=False)\n",
    "# current_district_therm_loads.to_excel(writer, sheet_name='Current District Therm Op Loads', index=False)\n",
    "# COP_wetbulb_reg_output.to_excel(writer, sheet_name='Reg. Data - Current District', index=False)\n",
    "# current_District_Elec_Use.to_excel(writer, sheet_name='Current District Elec Use', index=False)\n",
    "# current_District_Gas_Use.to_excel(writer, sheet_name='Current District Gas Use', index=False)\n",
    "# current_Bldg_Therm_Op_Loads.to_excel(writer, sheet_name='Current Bldg Therm Op Loads', index=False)\n",
    "# Current_Bldg_Equip_Elec_Use.to_excel(writer, sheet_name='Current Bldg Equip Elec Use', index=False)\n",
    "# Current_Bldg_Equip_Gas_Use.to_excel(writer, sheet_name='Current Bldg Equip Gas Use', index=False)\n",
    "# new_Bldg_Therm_Op_Loads.to_excel(writer, sheet_name='New Bldg Equip Therm Op Loads', index=False)\n",
    "# COP_newBldgEquip_reg_output.to_excel(writer, sheet_name='Reg. Data - New Bldg Equip', index=False)\n",
    "# new_bldg_equip_elec_Use.to_excel(writer, sheet_name='New Bldg Equip Elec Use', index=False)\n",
    "# new_CUP_Therm_Loads.to_excel(writer, sheet_name='Therm Loads for New CUP Module', index=False)\n",
    "# key_outputs_OG.to_excel(writer, sheet_name='New CUP Therm Op Loads', index=False)\n",
    "# newCUp_reg_df.to_excel(writer, sheet_name='Reg. Data - New CUP Equip', index=False)\n",
    "# new_CUP_equip_elec_Use.to_excel(writer, sheet_name='New CUP Equip Elec Use', index=False)\n",
    "# bldg_total_elec_use.to_excel(writer, sheet_name='Building Total Electricity Use', index=False)\n",
    "# bldg_total_gas_use.to_excel(writer, sheet_name='Building Total Gas Use', index=False)\n",
    "# elec_billing_df.to_excel(writer, sheet_name='Net Elec Use by Billing Group', index=False)\n",
    "# bldg_total_elec_grouped_df.to_excel(writer, sheet_name='Elec Cost by Billing Group', index=False)"
   ]
  },
  {
   "cell_type": "code",
   "execution_count": null,
   "metadata": {},
   "outputs": [],
   "source": [
    "# allBldgLoads_output.to_parquet('allBldgLoads_output.parquet', index=False)\n",
    "\n",
    "# allBldgLoads_output.to_csv('Simulations Thermal Use.csv', index=False)\n",
    "# allBldgElecUse_output.to_csv('Simulations Electricity Use.csv', index=False)\n",
    "# allBldgGasUse_output.to_csv('Simulations Gas Use.csv', index=False)\n",
    "# current_district_therm_loads.to_csv('Current District Therm Op Loads.csv', index=False)\n",
    "# COP_wetbulb_reg_output.to_csv('Reg. Data - Current District.csv', index=False)\n",
    "# current_District_Elec_Use.to_csv('Current District Elec Use.csv', index=False)\n",
    "# current_District_Gas_Use.to_csv('Current District Gas Use.csv', index=False)\n",
    "# current_Bldg_Therm_Op_Loads.to_csv('Current Bldg Therm Op Loads.csv', index=False)\n",
    "# Current_Bldg_Equip_Elec_Use.to_csv('Current Bldg Equip Elec Use.csv', index=False)\n",
    "# Current_Bldg_Equip_Gas_Use.to_csv('Current Bldg Equip Gas Use.csv', index=False)\n",
    "# new_Bldg_Therm_Op_Loads.to_csv('New Bldg Equip Therm Op Loads.csv', index=False)\n",
    "# COP_newBldgEquip_reg_output.to_csv('Reg. Data - New Bldg Equip.csv', index=False)\n",
    "# new_bldg_equip_elec_Use.to_csv('New Bldg Equip Elec Use.csv', index=False)\n",
    "# new_CUP_Therm_Loads.to_csv('Therm Loads for New CUP Module.csv', index=False)\n",
    "# key_outputs_OG.to_csv('New CUP Therm Op Loads.csv', index=False)\n",
    "# newCUp_reg_df.to_csv('Reg. Data - New CUP Equip.csv', index=False)\n",
    "# new_CUP_equip_elec_Use.to_csv('New CUP Equip Elec Use.csv', index=False)\n",
    "# bldg_total_elec_use.to_csv('Building Total Electricity Use.csv', index=False)\n",
    "# bldg_total_gas_use.to_csv('Building Total Gas Use.csv', index=False)\n",
    "# elec_billing_df.to_csv('Net Elec Use by Billing Group.csv', index=False)\n",
    "# bldg_total_elec_grouped_df.to_csv('Elec Cost by Billing Group.csv', index=False)"
   ]
  },
  {
   "cell_type": "code",
   "execution_count": null,
   "metadata": {},
   "outputs": [],
   "source": [
    "# Define the folder path where you want to save the CSV files\n",
    "output_folder = \"csv_outputs\"  # Change this to your desired folder name\n",
    "\n",
    "\n",
    "# Define a dictionary with DataFrame names as keys and DataFrames as values\n",
    "dataframes = {\n",
    "    \"Simulations Thermal Use\": allBldgLoads_output,\n",
    "    \"Simulations Electricity Use\": allBldgElecUse_output,\n",
    "    \"Simulations Gas Use\": allBldgGasUse_output,\n",
    "    \"Current District Therm Op Loads\": current_district_therm_loads,\n",
    "    \"Reg. Data - Current District\": COP_wetbulb_reg_output,\n",
    "    \"Current District Elec Use\": current_District_Elec_Use,\n",
    "    \"Current District Gas Use\": current_District_Gas_Use,\n",
    "    \"Current Bldg Therm Op Loads\": current_Bldg_Therm_Op_Loads,\n",
    "    \"Current Bldg Equip Elec Use\": Current_Bldg_Equip_Elec_Use,\n",
    "    \"Current Bldg Equip Gas Use\": Current_Bldg_Equip_Gas_Use,\n",
    "    \"New Bldg Equip Therm Op Loads\": new_Bldg_Therm_Op_Loads,\n",
    "    \"Reg. Data - New Bldg Equip\": COP_newBldgEquip_reg_output,\n",
    "    \"New Bldg Equip Elec Use\": new_bldg_equip_elec_Use,\n",
    "    \"Therm Loads for New CUP Module\": new_CUP_Therm_Loads,\n",
    "    \"New CUP Therm Op Loads\": key_outputs_OG,\n",
    "    \"Reg. Data - New CUP Equip\": newCUp_reg_df,\n",
    "    \"New CUP Equip Elec Use\": new_CUP_equip_elec_Use,\n",
    "    \"Building Total Electricity Use\": bldg_total_elec_use,\n",
    "    \"Building Total Gas Use\": bldg_total_gas_use,\n",
    "    \"Net Elec Use by Billing Group\": elec_billing_df,\n",
    "    \"Elec Cost by Billing Group\": bldg_total_elec_grouped_df,\n",
    "}\n",
    "\n",
    "# Loop through the dictionary\n",
    "for name, df in dataframes.items():\n",
    "    # Calculate the number of chunks needed\n",
    "    num_chunks = (\n",
    "        len(df) // 1048576 + 1\n",
    "    )  # Assuming each chunk will have at most 1,048,576 rows\n",
    "\n",
    "    # Split the DataFrame into chunks\n",
    "    chunks = np.array_split(df, num_chunks)\n",
    "\n",
    "    # Save each chunk to a separate CSV file\n",
    "    for i, chunk in enumerate(chunks, start=1):\n",
    "        # Generate the file path for the CSV file\n",
    "        file_path = os.path.join(output_folder, f\"{name}_{i}.csv\")\n",
    "\n",
    "        # Save the chunk to the CSV file\n",
    "        chunk.to_csv(file_path, index=False)"
   ]
  },
  {
   "cell_type": "markdown",
   "metadata": {},
   "source": [
    "# If you are in the year of decarb (2045) and this is your first time here, go to file UCSB_Excel to Python. If you are not in the year of decarb(2025), then you are all done. Check out your results in the folder - Calculation_map_output.xlsx !\n"
   ]
  },
  {
   "cell_type": "markdown",
   "metadata": {},
   "source": [
    "# If you are in the year of decarb (2045) and you already reran this file, then you are all done. Check out your results in the folder - Calculation_map_output.xlsx !\n"
   ]
  }
 ],
 "metadata": {
  "kernelspec": {
   "display_name": ".venv",
   "language": "python",
   "name": "python3"
  },
  "language_info": {
   "codemirror_mode": {
    "name": "ipython",
    "version": 3
   },
   "file_extension": ".py",
   "mimetype": "text/x-python",
   "name": "python",
   "nbconvert_exporter": "python",
   "pygments_lexer": "ipython3",
   "version": "3.11.9"
  }
 },
 "nbformat": 4,
 "nbformat_minor": 2
}
